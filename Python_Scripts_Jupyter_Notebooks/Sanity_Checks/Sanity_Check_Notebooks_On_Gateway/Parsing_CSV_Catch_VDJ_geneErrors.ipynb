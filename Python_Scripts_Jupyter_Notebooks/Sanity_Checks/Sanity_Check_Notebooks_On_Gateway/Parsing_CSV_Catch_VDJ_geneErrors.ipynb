{
 "cells": [
  {
   "cell_type": "markdown",
   "metadata": {
    "hidden": false
   },
   "source": [
    "<h1 align='center'>Sanity Checks on Gateway</h1>\n",
    "\n",
    "<h4 align='center'>iReceptor $\\mid$ Laura Gutierrez Funderburk $\\mid$ October 14</h4>\n",
    "\n",
    "<h4 align='center'>Supervised by Dr. Felix Breden, Dr. Jamie Scott, Dr. Brian Corrie</h4>\n",
    "\n",
    "<h2 align='center'>Abstract</h2>\n",
    "\n",
    "In this notebook I will parse V-gene, D-gene and J-gene entries categorised per Lab as they appear under  https://gateway.ireceptor.org"
   ]
  },
  {
   "cell_type": "code",
   "execution_count": 6,
   "metadata": {
    "hidden": false
   },
   "outputs": [],
   "source": [
    "# Test 1: Check len(Junction Sequence) and Junction length math\n",
    "# Test 2: Check all entries do not contain non 'IG' or non 'TC' or non 'or' words\n",
    "# Test 3: Verify entries are consistent within each row, i.e. 3 letter should be the \n",
    "#   same on all V,D,J-gene columns"
   ]
  },
  {
   "cell_type": "code",
   "execution_count": 1,
   "metadata": {
    "hidden": false
   },
   "outputs": [],
   "source": [
    "#NOTE: Missing Complete name for Gastroenterology clinic, Oslo University Hospital?Rikshospitalet\n",
    "lab_names = [\"Institute of Molecular and Genomic Medicine, National Health Research Institutes\",\\\n",
    "            \"Von Budingen Lab\",\\\n",
    "             \"The Wellcome Trust Sanger Institute\",\\\n",
    "            \"Department of Pathology, Standford University\",\\\n",
    "             \"Kwong Lab\",\\\n",
    "            \"Vaccine Research Centre\",\\\n",
    "             \"Shemyakin-Ovchinnikov institute of Bioorganic Chemistry\",\\\n",
    "            \"Ramit Mehr's Computational Immunology Lab\",\\\n",
    "             \"Department of Immunology and Microbiology\",\\\n",
    "            \"Department of Immunology\",\\\n",
    "            \"Immunogenomics Lab\",\\\n",
    "             \"Georgiou Lab\",\\\n",
    "             \"Department of Medicine\"]\n",
    "\n",
    "lab_alias = [\"IMGM\",\\\n",
    "             \"VBL\",\\\n",
    "             \"WTSI\",\\\n",
    "             \"DPS\",\\\n",
    "             \"KL\",\\\n",
    "             \"VRC\",\\\n",
    "             \"SOIBC\",\\\n",
    "             \"RMCIL\",\\\n",
    "             \"DIM\",\\\n",
    "            \"DI\",\\\n",
    "             \"IL\",\\\n",
    "             \"GL\",\\\n",
    "             \"DM\"]\n",
    "\n",
    "if len(lab_names)==len(lab_alias):\n",
    "    \n",
    "    lab_alias_name_dic = {lab_alias[i]:lab_names[i] for i in range(len(lab_names))}\n",
    "else:\n",
    "    \n",
    "    print(\"Check lengths of arrays and look for abnormalities, duplicates, missing names/aliases ...\")"
   ]
  },
  {
   "cell_type": "code",
   "execution_count": 2,
   "metadata": {
    "hidden": false
   },
   "outputs": [],
   "source": [
    "import json\n",
    "import pandas as pd"
   ]
  },
  {
   "cell_type": "code",
   "execution_count": 4,
   "metadata": {
    "hidden": false
   },
   "outputs": [],
   "source": [
    "# Directories\n",
    "\n",
    "CSV_Directory = \"./CSV_FILES/\"\n",
    "IMGM_cont = CSV_Directory + \"IMGM_Seq.csv\""
   ]
  },
  {
   "cell_type": "code",
   "execution_count": 87,
   "metadata": {
    "hidden": false
   },
   "outputs": [],
   "source": [
    "IMGM_parsed = pd.read_csv(IMGM_cont,sep=\"\\t\")\n",
    "V_genes = [item.split(\", or \") for item in IMGM_parsed['V-Gene']]\n",
    "J_genes = [item.split(\", or \") for item in IMGM_parsed['J-Gene']]\n",
    "D_genes = [item.split(\", or \") for item in IMGM_parsed['D-Gene']]\n",
    "VJD_genes = [[V_genes[i],J_genes[i],D_genes[i]] for i in range(len(V_genes))]\n",
    "Junction_Sequence = [item for item in IMGM_parsed['Junction Sequence (AA)']]\n",
    "Junction_Length = [item for item in IMGM_parsed['Junction Length (AA)']]"
   ]
  },
  {
   "cell_type": "code",
   "execution_count": 10,
   "metadata": {
    "hidden": false
   },
   "outputs": [
    {
     "name": "stdout",
     "output_type": "stream",
     "text": [
      "[]\n"
     ]
    }
   ],
   "source": [
    "# Test area\n",
    "# Test 1\n",
    "Junction_Seq_Len_Test = [[False,i,Junction_Sequence[i],Junction_Length[i]] for i in range(len(Junction_Length)) if len(Junction_Sequence[i]) !=Junction_Length[i]]\n",
    "print(Junction_Seq_Len_Test)"
   ]
  },
  {
   "cell_type": "code",
   "execution_count": 13,
   "metadata": {
    "hidden": false
   },
   "outputs": [
    {
     "name": "stdout",
     "output_type": "stream",
     "text": [
      "[]\n",
      "[]\n",
      "[[['IGHD4-11*01', 'ORF'], 'ORF'], [['IGHD4-11*01', 'ORF'], 'ORF']]\n"
     ]
    }
   ],
   "source": [
    "# Test area\n",
    "# test 2\n",
    "def test_x_gene(x_gene_array):\n",
    "    x_gene_test = []\n",
    "    for item in x_gene_array:\n",
    "        for i in range(len(item)):\n",
    "            if \"IG\" not in item[i] and \"TC\" not in item[i]:\n",
    "                x_gene_test.append([item,item[i]])\n",
    "    return x_gene_test\n",
    "print(test_x_gene(V_genes))\n",
    "print(test_x_gene(J_genes))\n",
    "print(test_x_gene(D_genes))"
   ]
  },
  {
   "cell_type": "code",
   "execution_count": 72,
   "metadata": {
    "hidden": false
   },
   "outputs": [
    {
     "name": "stdout",
     "output_type": "stream",
     "text": [
      "IG study\n",
      "\n",
      "\n",
      "    Number of 'IG' occurrences  Number of 'TC' occurrences\n",
      "0                            2                           0\n",
      "1                            2                           0\n",
      "2                            2                           0\n",
      "3                            1                           0\n",
      "4                            6                           0\n",
      "5                            6                           0\n",
      "6                            3                           0\n",
      "7                            1                           0\n",
      "8                            3                           0\n",
      "9                           11                           0\n",
      "10                           4                           0\n",
      "11                           3                           0\n",
      "12                           8                           0\n",
      "13                          13                           0\n",
      "14                          10                           0\n",
      "15                           6                           0\n",
      "16                           8                           0\n",
      "17                          13                           0\n",
      "18                          13                           0\n",
      "19                           2                           0\n",
      "20                           1                           0\n",
      "21                           2                           0\n",
      "22                          13                           0\n",
      "23                          10                           0\n",
      "24                          13                           0\n",
      "[156, 0]\n",
      "    Number of 'IG' occurrences  Number of 'TC' occurrences\n",
      "0                            1                           0\n",
      "1                            1                           0\n",
      "2                            1                           0\n",
      "3                            1                           0\n",
      "4                            1                           0\n",
      "5                            1                           0\n",
      "6                            1                           0\n",
      "7                            1                           0\n",
      "8                            1                           0\n",
      "9                            1                           0\n",
      "10                           1                           0\n",
      "11                           1                           0\n",
      "12                           1                           0\n",
      "13                           1                           0\n",
      "14                           1                           0\n",
      "15                           1                           0\n",
      "16                           1                           0\n",
      "17                           1                           0\n",
      "18                           1                           0\n",
      "19                           2                           0\n",
      "20                           1                           0\n",
      "21                           1                           0\n",
      "22                           1                           0\n",
      "23                           1                           0\n",
      "24                           1                           0\n",
      "[26, 0]\n",
      "    Number of 'IG' occurrences  Number of 'TC' occurrences\n",
      "0                            1                           0\n",
      "1                            1                           0\n",
      "2                            1                           0\n",
      "3                            1                           0\n",
      "4                            1                           0\n",
      "5                            1                           0\n",
      "6                            1                           0\n",
      "7                            1                           0\n",
      "8                            1                           0\n",
      "9                            1                           0\n",
      "10                           1                           0\n",
      "11                           1                           0\n",
      "12                           1                           0\n",
      "13                           1                           0\n",
      "14                           1                           0\n",
      "15                           1                           0\n",
      "16                           1                           0\n",
      "17                           1                           0\n",
      "18                           1                           0\n",
      "19                           1                           0\n",
      "20                           1                           0\n",
      "21                           1                           0\n",
      "22                           1                           0\n",
      "23                           1                           0\n",
      "24                           1                           0\n",
      "[25, 0]\n"
     ]
    }
   ],
   "source": [
    "# Test 3\n",
    "\n",
    "def test_IG_or_TC(x_gene_array):\n",
    "\n",
    "    IG_vs_TC = []\n",
    "    Nu_iterations = len(x_gene_array)\n",
    "    for i in range(Nu_iterations):\n",
    "        IG_vs_TC.append([sum(\"IG\" in s for s in x_gene_array[i]),\\\n",
    "                         sum(\"TC\" in s for s in x_gene_array[i])])\n",
    "        \n",
    "    tabulate_occurrences = pd.DataFrame(IG_vs_TC,columns=[\"Number of 'IG' occurrences\"\\\n",
    "                               ,\"Number of 'TC' occurrences\"])\n",
    "    \n",
    "    IG_occurs = tabulate_occurrences[\"Number of 'IG' occurrences\"].sum()\n",
    "    TC_occurs = tabulate_occurrences[\"Number of 'TC' occurrences\"].sum()\n",
    "    \n",
    "    return [[IG_occurs,TC_occurs],tabulate_occurrences]\n",
    "\n",
    "def message_test_IG_or_TC():\n",
    "    \n",
    "    A_V,B_V = test_IG_or_TC(V_genes)\n",
    "    A_J,B_J = test_IG_or_TC(J_genes)\n",
    "    A_D,B_D = test_IG_or_TC(D_genes)\n",
    "    \n",
    "    if A_V[0]>A_V[1] and A_J[0]>A_J[1] and A_D[0]>A_D[1]:\n",
    "        message=\"IG study\"\n",
    "    elif A_V[0]<A_V[1] and A_J[0]<A_J[1] and A_D[0]<A_D[1]:\n",
    "        message=\"TC study\"\n",
    "    else:\n",
    "        message=\"huh?\"\n",
    "    return message\n",
    "\n",
    "print(message_test_IG_or_TC())\n",
    "print(\"\\n\")\n",
    "# V-genes\n",
    "print(test_IG_or_TC(V_genes)[1])\n",
    "print(test_IG_or_TC(V_genes)[0])\n",
    "# J-genes\n",
    "print(test_IG_or_TC(J_genes)[1])\n",
    "print(test_IG_or_TC(J_genes)[0])\n",
    "# D-genes\n",
    "print(test_IG_or_TC(D_genes)[1])\n",
    "print(test_IG_or_TC(D_genes)[0])"
   ]
  },
  {
   "cell_type": "code",
   "execution_count": 90,
   "metadata": {
    "hidden": false
   },
   "outputs": [
    {
     "data": {
      "text/plain": [
       "[['IGHV3-7*03',\n",
       "  'IGHV3-53*03',\n",
       "  'IGHV3-21*04',\n",
       "  'IGHV3-71*01',\n",
       "  'IGHV3-53*01',\n",
       "  'IGHV3-48*02',\n",
       "  'IGHV3-11*01',\n",
       "  'IGHV3-11*05',\n",
       "  'IGHV3-53*02',\n",
       "  'IGHV3-11*03'],\n",
       " ['IGHJ4*02'],\n",
       " ['IGHD4-11*01', 'ORF']]"
      ]
     },
     "execution_count": 90,
     "metadata": {},
     "output_type": "execute_result"
    }
   ],
   "source": [
    "VJD_genes[-2]"
   ]
  },
  {
   "cell_type": "code",
   "execution_count": null,
   "metadata": {
    "hidden": false
   },
   "outputs": [],
   "source": []
  },
  {
   "cell_type": "code",
   "execution_count": null,
   "metadata": {
    "hidden": false
   },
   "outputs": [],
   "source": []
  },
  {
   "cell_type": "code",
   "execution_count": null,
   "metadata": {
    "hidden": false
   },
   "outputs": [],
   "source": []
  },
  {
   "cell_type": "code",
   "execution_count": null,
   "metadata": {
    "hidden": false
   },
   "outputs": [],
   "source": []
  }
 ],
 "metadata": {
  "kernelspec": {
   "display_name": "Python 3",
   "language": "python",
   "name": "python3"
  },
  "language_info": {
   "codemirror_mode": {
    "name": "ipython",
    "version": 3
   },
   "file_extension": ".py",
   "mimetype": "text/x-python",
   "name": "python",
   "nbconvert_exporter": "python",
   "pygments_lexer": "ipython3",
   "version": "3.6.4"
  }
 },
 "nbformat": 4,
 "nbformat_minor": 2
}
