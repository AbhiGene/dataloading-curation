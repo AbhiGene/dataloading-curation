{
 "cells": [
  {
   "cell_type": "markdown",
   "metadata": {
    "hidden": false
   },
   "source": [
    "<h1 align='center'>Sanity Checks on API</h1>\n",
    "\n",
    "<h4 align='center'>iReceptor $\\mid$ Laura Gutierrez Funderburk $\\mid$ October 21</h4>\n",
    "\n",
    "<h4 align='center'>Supervised by Dr. Felix Breden, Dr. Jamie Scott, Dr. Brian Corrie</h4>\n",
    "\n",
    "<h2 align='center'>Abstract</h2>\n",
    "\n",
    "In this notebook I will parse and study JSON content found https://ipa.ireceptor.org/v2/samples with the purpose of doing sanity checks on data."
   ]
  },
  {
   "cell_type": "code",
   "execution_count": 1,
   "metadata": {
    "hidden": false
   },
   "outputs": [
    {
     "name": "stderr",
     "output_type": "stream",
     "text": [
      "/home/lgutierrezfunderburk/anaconda3/lib/python3.6/importlib/_bootstrap.py:219: RuntimeWarning: numpy.dtype size changed, may indicate binary incompatibility. Expected 96, got 88\n",
      "  return f(*args, **kwds)\n"
     ]
    }
   ],
   "source": [
    "import requests\n",
    "import json\n",
    "import csv\n",
    "import pandas as pd"
   ]
  },
  {
   "cell_type": "code",
   "execution_count": 2,
   "metadata": {
    "hidden": false
   },
   "outputs": [
    {
     "name": "stdout",
     "output_type": "stream",
     "text": [
      "Column Names\n",
      "['Paired_read_assembly', 'Sequencing_method', 'Software_versions', '_id', 'accession', 'adapter_sequence_forward ', 'adapter_sequence_reverse', 'age', 'age_event', 'anatomic_site', 'ancestry_population', 'antigen ', 'barcode_1', 'barcode_2', 'biomaterial_provider', 'bioproject_biosample_id', 'cell_isolation', 'cell_number', 'cell_phenotype', 'cell_processing_protocol', 'cell_quality', 'cell_storage', 'cell_subset', 'cell_tissue', 'cell_type', 'cells_per_reaction', 'collapsing_method', 'collected_by', 'collection_time_event', 'collection_time_point_reference', 'collection_time_point_relative', 'complete_sequences', 'data_processing_protocols', 'disease_diagnosis', 'disease_length', 'disease_stage', 'disease_state', 'disease_state_sample', 'ethnicity', 'experiment_id', 'experiment_name', 'fasta_file_name', 'forward_PCR_primer_target_location', 'forward_pcr_primer_target_location', 'forward_primers', 'gene_derivation_heavy', 'gene_derivation_light', 'germline_database', 'grants', 'heavy_or_light_chain', 'igblast_file_name', 'imgt_file_name', 'immunogen', 'inclusion_exclusion_criteria', 'intervention', 'ir_max_age', 'ir_min_age', 'ir_project_sample_id', 'ir_record_number', 'ir_sequence_count', 'ir_sra_run_id', 'ir_subject_age', 'ir_subject_age_max', 'ir_subject_age_min', 'lab_address', 'lab_name', 'library_construction_method', 'library_generation_kit_version', 'library_generation_protocol', 'library_name', 'library_source', 'link_type', 'linked_subjects', 'medical_history', 'mixcr_file_name', 'onto_tissue', 'organism', 'paired_read_assembly', 'pcr_target_locus', 'physical_linkage', 'primer_match_cutoffs', 'prior_therapies', 'protocol_id', 'pub_ids', 'quality_thresholds', 'race', 'read_length', 'receptor_type', 'regions_included_in_sequence', 'reverse_PCR_primer_target_location', 'reverse_pcr_primer_target_location', 'reverse_primers', 'sample_id', 'sample_name', 'sample_type', 'sequencing_facility', 'sequencing_kit', 'sequencing_platform', 'sequencing_run_date', 'sequencing_run_id', 'sex', 'single_cell', 'single_or_paired', 'software_versions', 'spot_descriptor', 'sra_sample_id', 'strain_name', 'study_description', 'study_group_description', 'study_id', 'study_title', 'subject_id', 'submitted_by', 'synthetic', 'target_locus_for_pcr', 'template_amount', 'template_class', 'template_quality', 'tissue', 'tissue_processing', 'total_reads_passing_qc_filter', 'user_tissue', 'year']\n",
      "There are a total of 123 columns\n"
     ]
    }
   ],
   "source": [
    "DATA = json.loads(requests.get(\"https://ipa.ireceptor.org/v2/samples\").text)\n",
    "df = pd.DataFrame.from_dict(DATA)\n",
    "print(\"Column Names\")\n",
    "cols =[item for item in df.columns] \n",
    "print(cols)\n",
    "print(\"There are a total of \" + str(len(cols)) + \" columns\")"
   ]
  },
  {
   "cell_type": "code",
   "execution_count": 3,
   "metadata": {
    "hidden": false
   },
   "outputs": [
    {
     "name": "stdout",
     "output_type": "stream",
     "text": [
      "Are the entries in the JSON file uniform?\n",
      "{4, 109, 81, 82, 84, 85}\n"
     ]
    }
   ],
   "source": [
    "print(\"Are the entries in the JSON file uniform?\")\n",
    "lengths = set([len(DATA[i].keys()) for i in range(len(DATA))])\n",
    "print(lengths)  "
   ]
  },
  {
   "cell_type": "markdown",
   "metadata": {
    "hidden": false
   },
   "source": [
    "From this the first thing we observe is that the content on each row is non-uniform. Indeed, the columns' in samples can be categorized into different groups:\n",
    "\n",
    "Groups that have defined information under 4, 109, 81, 82, 84 or 85 columns. Notice that defined information ranges from integers, floating values, strings and the word \"Null\" which is transformed into None in the Dataframe. \n",
    "\n",
    "Below we observe that the groups are not categorized in an ordered fashion, indeed, we find that the entry with only 4 well-defined columns is the ninth entry (entries run from 0 to 549) on the JSON array DATA, and correspondingly on the night row on the Dataframe df. "
   ]
  },
  {
   "cell_type": "code",
   "execution_count": 4,
   "metadata": {
    "hidden": false
   },
   "outputs": [
    {
     "name": "stdout",
     "output_type": "stream",
     "text": [
      "Cluster with 4 defined entries JSON data\n",
      "[9]\n",
      "We find only one entry with 4 defined column names\n",
      "\n",
      "Next we explore what those columns are\n",
      "{'_id': 21, 'study_title': 'Measurement and Clinical Monitoring of Human Lymphocyte Clonality by Massively Parallel V-D-J Pyrosequencing', 'lab_name': 'Department of Pathology, Stanford University', 'ir_project_sample_id': 21}\n",
      "\n",
      "\n",
      "What does this look like on the dataframe?\n",
      "Paired_read_assembly                                                             NaN\n",
      "Sequencing_method                                                                NaN\n",
      "Software_versions                                                                NaN\n",
      "_id                                                                               21\n",
      "accession                                                                        NaN\n",
      "adapter_sequence_forward                                                         NaN\n",
      "adapter_sequence_reverse                                                         NaN\n",
      "age                                                                              NaN\n",
      "age_event                                                                        NaN\n",
      "anatomic_site                                                                    NaN\n",
      "ancestry_population                                                              NaN\n",
      "antigen                                                                          NaN\n",
      "barcode_1                                                                        NaN\n",
      "barcode_2                                                                        NaN\n",
      "biomaterial_provider                                                             NaN\n",
      "bioproject_biosample_id                                                          NaN\n",
      "cell_isolation                                                                   NaN\n",
      "cell_number                                                                      NaN\n",
      "cell_phenotype                                                                   NaN\n",
      "cell_processing_protocol                                                         NaN\n",
      "cell_quality                                                                     NaN\n",
      "cell_storage                                                                     NaN\n",
      "cell_subset                                                                      NaN\n",
      "cell_tissue                                                                      NaN\n",
      "cell_type                                                                        NaN\n",
      "cells_per_reaction                                                               NaN\n",
      "collapsing_method                                                                NaN\n",
      "collected_by                                                                     NaN\n",
      "collection_time_event                                                            NaN\n",
      "collection_time_point_reference                                                  NaN\n",
      "                                                         ...                        \n",
      "sample_name                                                                      NaN\n",
      "sample_type                                                                      NaN\n",
      "sequencing_facility                                                              NaN\n",
      "sequencing_kit                                                                   NaN\n",
      "sequencing_platform                                                              NaN\n",
      "sequencing_run_date                                                              NaN\n",
      "sequencing_run_id                                                                NaN\n",
      "sex                                                                              NaN\n",
      "single_cell                                                                      NaN\n",
      "single_or_paired                                                                 NaN\n",
      "software_versions                                                                NaN\n",
      "spot_descriptor                                                                  NaN\n",
      "sra_sample_id                                                                    NaN\n",
      "strain_name                                                                      NaN\n",
      "study_description                                                                NaN\n",
      "study_group_description                                                          NaN\n",
      "study_id                                                                         NaN\n",
      "study_title                        Measurement and Clinical Monitoring of Human L...\n",
      "subject_id                                                                       NaN\n",
      "submitted_by                                                                     NaN\n",
      "synthetic                                                                        NaN\n",
      "target_locus_for_pcr                                                             NaN\n",
      "template_amount                                                                  NaN\n",
      "template_class                                                                   NaN\n",
      "template_quality                                                                 NaN\n",
      "tissue                                                                           NaN\n",
      "tissue_processing                                                                NaN\n",
      "total_reads_passing_qc_filter                                                    NaN\n",
      "user_tissue                                                                      NaN\n",
      "year                                                                             NaN\n",
      "Name: 9, Length: 123, dtype: object\n"
     ]
    }
   ],
   "source": [
    "print(\"Cluster with 4 defined entries JSON data\")\n",
    "case_4 = [i for i in range(len(DATA)) if len(DATA[i].keys())==4]\n",
    "print(case_4)\n",
    "print(\"We find only one entry with 4 defined column names\\n\")\n",
    "print(\"Next we explore what those columns are\")\n",
    "print(DATA[9])\n",
    "print(\"\\n\")\n",
    "print(\"What does this look like on the dataframe?\")\n",
    "print(df.loc[9])"
   ]
  },
  {
   "cell_type": "code",
   "execution_count": 5,
   "metadata": {
    "hidden": false
   },
   "outputs": [
    {
     "name": "stdout",
     "output_type": "stream",
     "text": [
      "Case: 4. Well-defined columns are on JSON entry(ies)/row number(s):\n",
      "[9]\n",
      "\n",
      "Case: 109. Well-defined columns are on JSON entry(ies)/row number(s):\n",
      "[389, 390, 391, 392, 393, 394, 395, 396, 397, 398, 399, 400, 401, 402, 403, 404, 405, 406, 407, 408, 409, 410, 411, 412, 413, 414, 415, 416, 417, 418, 419]\n",
      "\n",
      "Case: 81. Well-defined columns are on JSON entry(ies)/row number(s):\n",
      "[305, 306, 307, 308, 309, 310, 311, 312, 313, 314, 315, 316, 317, 318, 319, 320, 321, 322, 323, 324, 325, 326, 327, 328, 329, 330, 331, 332, 333, 334, 335, 336, 337, 338, 339, 340, 341, 342, 343, 344, 345, 346, 347, 348, 349, 350, 351, 352, 353, 354, 355, 356, 357, 358, 359, 360, 361, 362, 363, 364, 365, 366, 367, 368, 369, 370, 371, 372, 373, 374, 375, 376, 377, 378, 379, 380, 381, 382, 383, 384, 385, 386, 387, 388, 420, 421, 422, 423, 424, 425, 426, 427, 428, 429, 430, 431, 432, 433, 434, 435, 436, 437, 438, 439, 440, 441, 442, 445, 446, 447, 448, 449, 450, 451, 452, 453, 454, 455, 457, 458, 459, 460, 464, 465, 466, 468, 469, 470, 471, 472, 473, 476, 477, 478, 481, 483, 484, 486, 487, 488, 489, 490, 492, 494, 496, 497, 498, 502, 503, 504, 505, 506, 507, 508, 509, 511, 512, 513]\n",
      "\n",
      "Case: 82. Well-defined columns are on JSON entry(ies)/row number(s):\n",
      "[443, 444, 456, 461, 462, 463, 467, 474, 475, 479, 480, 482, 485, 491, 493, 495, 499, 500, 501, 510, 514, 515, 516, 517, 518, 519]\n",
      "\n",
      "Case: 84. Well-defined columns are on JSON entry(ies)/row number(s):\n",
      "[0, 1, 2, 3, 4, 5, 7, 8, 10, 11, 12, 14, 16, 17, 18, 19, 20, 21, 22, 23, 25, 26, 27, 28, 29, 30, 31, 32, 33, 34, 35, 37, 38, 39, 40, 41, 42, 43, 44, 45, 46, 47, 48, 49, 50, 51, 53, 56, 57, 58, 59, 60, 61, 62, 63, 64, 65, 66, 67, 68, 69, 70, 71, 72, 73, 74, 75, 77, 78, 79, 80, 81, 82, 83, 84, 85, 86, 87, 88, 89, 90, 91, 92, 93, 94, 96, 97, 99, 100, 101, 102, 103, 104, 105, 106, 107, 108, 109, 110, 112, 113, 114, 115, 116, 117, 118, 119, 120, 121, 123, 124, 125, 127, 128, 129, 131, 132, 134, 135, 137, 138, 140, 141, 142, 143, 144, 145, 147, 148, 149, 151, 153, 154, 155, 156, 157, 158, 159, 160, 161, 162, 163, 164, 165, 166, 167, 168, 169, 170, 171, 172, 173, 174, 175, 177, 178, 179, 181, 182, 183, 185, 186, 188, 190, 191, 192, 193, 194, 195, 196, 198, 199, 200, 201, 202, 203, 204, 205, 206, 207, 208, 209, 210, 211, 212, 213, 214, 215, 217, 218, 219, 220, 221, 222, 223, 224, 225, 226, 228, 229, 230, 231, 232, 233, 234, 235, 236, 237, 238, 239, 240, 241, 242, 243, 244, 245, 246, 247, 248, 250, 251, 252, 253, 254, 255, 256, 257, 258, 259, 260, 261, 262, 263, 264, 265, 266, 267, 268, 269, 270, 271, 272, 275, 276, 277, 278, 279, 280, 281, 282, 283, 285, 286, 287, 288, 289, 290, 291, 292, 293, 296, 297, 298, 300, 301, 302, 303, 304, 520, 521, 522, 523, 524, 525, 526, 527, 528, 529, 530, 531, 532, 533, 534, 535, 537, 538, 539, 540, 541, 542, 543, 544, 545, 546, 547, 548, 549]\n",
      "\n",
      "Case: 85. Well-defined columns are on JSON entry(ies)/row number(s):\n",
      "[6, 13, 15, 24, 36, 52, 54, 55, 76, 95, 98, 111, 122, 126, 130, 133, 136, 139, 146, 150, 152, 176, 180, 184, 187, 189, 197, 216, 227, 249, 273, 274, 284, 294, 295, 299, 536]\n",
      "\n"
     ]
    }
   ],
   "source": [
    "# Study different cases and obtain row number/JSON array number\n",
    "cases = []\n",
    "for item in lengths:\n",
    "    cases.append([item,[i for i in range(len(DATA)) if len(DATA[i].keys())==item]])\n",
    "for i in range(len(cases)):\n",
    "    print(\"Case: \" + str(cases[i][0]) + \". Well-defined columns are on JSON entry(ies)/row number(s):\\n\" + str(cases[i][1]) + \"\\n\") \n"
   ]
  },
  {
   "cell_type": "code",
   "execution_count": 6,
   "metadata": {
    "hidden": false
   },
   "outputs": [],
   "source": [
    "def test_df_colNames(case_arr):\n",
    "\n",
    "    case_arr_test = []\n",
    "    iterate_over = len(case_arr)\n",
    "    for i in range(iterate_over):\n",
    "        if DATA[case_arr[i]].keys() ==DATA[case_arr[0]].keys():\n",
    "            case_arr_test.append([True,0])\n",
    "        elif DATA[case_arr[i]].keys() ==DATA[case_arr[-1]].keys():\n",
    "            case_arr_test.append([True,-1])\n",
    "        else:\n",
    "            case_arr_test.append([False])\n",
    "    return case_arr_test"
   ]
  },
  {
   "cell_type": "code",
   "execution_count": 7,
   "metadata": {
    "hidden": false
   },
   "outputs": [],
   "source": [
    "# Case                     Result\n",
    "#test_df_colNames(case_4)  0\n",
    "#test_df_colNames(case_81) 0\n",
    "#test_df_colNames(case_82) 0\n",
    "#test_df_colNames(case_84) 0,-1\n",
    "#test_df_colNames(case_85) 0,-1"
   ]
  },
  {
   "cell_type": "code",
   "execution_count": null,
   "metadata": {
    "hidden": false
   },
   "outputs": [],
   "source": []
  }
 ],
 "metadata": {
  "kernelspec": {
   "display_name": "Python 3",
   "language": "python",
   "name": "python3"
  },
  "language_info": {
   "codemirror_mode": {
    "name": "ipython",
    "version": 3
   },
   "file_extension": ".py",
   "mimetype": "text/x-python",
   "name": "python",
   "nbconvert_exporter": "python",
   "pygments_lexer": "ipython3",
   "version": "3.6.4"
  }
 },
 "nbformat": 4,
 "nbformat_minor": 2
}
