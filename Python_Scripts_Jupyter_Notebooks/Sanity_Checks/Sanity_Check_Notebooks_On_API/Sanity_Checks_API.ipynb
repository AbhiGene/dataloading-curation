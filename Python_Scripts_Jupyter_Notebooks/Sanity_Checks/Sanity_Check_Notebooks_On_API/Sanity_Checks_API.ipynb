{
 "cells": [
  {
   "cell_type": "markdown",
   "metadata": {
    "hidden": false
   },
   "source": [
    "<h1 align='center'>Sanity Checks on API</h1>\n",
    "\n",
    "<h4 align='center'>iReceptor $\\mid$ Laura Gutierrez Funderburk $\\mid$ October 23</h4>\n",
    "\n",
    "<h4 align='center'>Supervised by Dr. Felix Breden, Dr. Jamie Scott, Dr. Brian Corrie</h4>\n",
    "\n",
    "<h2 align='center'>Abstract</h2>\n",
    "\n",
    "In this notebook I will parse and study JSON content found https://ipa.ireceptor.org/v2/sequences_summary with the purpose of doing sanity checks on data."
   ]
  },
  {
   "cell_type": "code",
   "execution_count": 15,
   "metadata": {
    "hidden": false
   },
   "outputs": [],
   "source": [
    "import requests\n",
    "import json\n",
    "import csv\n",
    "import pandas as pd"
   ]
  },
  {
   "cell_type": "code",
   "execution_count": 2,
   "metadata": {
    "hidden": false,
    "scrolled": false
   },
   "outputs": [],
   "source": [
    "DATA = json.loads(requests.get(\"https://ipa.ireceptor.org/v2/sequences_summary\").text)\n",
    "DATA_items = DATA['items']\n",
    "DATA_summary = DATA['summary']"
   ]
  },
  {
   "cell_type": "code",
   "execution_count": 3,
   "metadata": {
    "hidden": false
   },
   "outputs": [],
   "source": [
    "df_items = pd.DataFrame.from_dict(DATA_items)\n",
    "# print(\"Column Names\")\n",
    "cols =[item for item in df_items.columns] \n",
    "# print(cols)\n",
    "# print(\"There are a total of \" + str(len(cols)) + \" columns\")"
   ]
  },
  {
   "cell_type": "code",
   "execution_count": 4,
   "metadata": {
    "hidden": false,
    "scrolled": false
   },
   "outputs": [
    {
     "data": {
      "text/plain": [
       "{'$oid': '5a704fb7b4737f76afc4f4eb'}"
      ]
     },
     "execution_count": 4,
     "metadata": {},
     "output_type": "execute_result"
    }
   ],
   "source": [
    "# What is this?\n",
    "df_items[\"_id\"][0]"
   ]
  },
  {
   "cell_type": "code",
   "execution_count": 5,
   "metadata": {
    "hidden": false
   },
   "outputs": [],
   "source": [
    "#df_summary[\"disease_state_sample\"]"
   ]
  },
  {
   "cell_type": "code",
   "execution_count": 6,
   "metadata": {
    "hidden": false,
    "scrolled": true
   },
   "outputs": [],
   "source": [
    "# for item in df_items.columns:\n",
    "#     print(df_items[item])"
   ]
  },
  {
   "cell_type": "code",
   "execution_count": 7,
   "metadata": {
    "hidden": false
   },
   "outputs": [],
   "source": [
    "# for item in df_items.columns:\n",
    "#     print(item)"
   ]
  },
  {
   "cell_type": "code",
   "execution_count": 8,
   "metadata": {
    "hidden": false
   },
   "outputs": [],
   "source": [
    "df_summary = pd.DataFrame.from_dict(DATA_summary)\n",
    "\n",
    "cols =[item for item in df_summary.columns] "
   ]
  },
  {
   "cell_type": "code",
   "execution_count": 9,
   "metadata": {
    "hidden": false
   },
   "outputs": [
    {
     "name": "stdout",
     "output_type": "stream",
     "text": [
      "Are the entries in the JSON file uniform?\n",
      "{128}\n"
     ]
    }
   ],
   "source": [
    "print(\"Are the entries in the JSON file uniform?\")\n",
    "lengths = set([len(DATA_items[i].keys()) for i in range(len(DATA_items))])\n",
    "print(lengths)  "
   ]
  },
  {
   "cell_type": "code",
   "execution_count": 10,
   "metadata": {
    "hidden": false
   },
   "outputs": [
    {
     "name": "stdout",
     "output_type": "stream",
     "text": [
      "Are the entries in the JSON file uniform?\n",
      "{109, 81, 82, 84, 85}\n"
     ]
    }
   ],
   "source": [
    "print(\"Are the entries in the JSON file uniform?\")\n",
    "lengths = set([len(DATA_summary[i].keys()) for i in range(len(DATA_summary))])\n",
    "print(lengths)  "
   ]
  },
  {
   "cell_type": "markdown",
   "metadata": {
    "hidden": false
   },
   "source": [
    "From this the first thing we observe is that the content on each row is non-uniform. Indeed, the columns' in samples can be categorized into different groups:\n",
    "\n",
    "Groups that have defined information under 4, 109, 81, 82, 84 or 85 columns. Notice that defined information ranges from integers, floating values, strings and the word \"Null\" which is transformed into None in the Dataframe. \n",
    "\n",
    "Below we observe that the groups are not categorized in an ordered fashion, indeed, we find that the entry with only 4 well-defined columns is the ninth entry (entries run from 0 to 549) on the JSON array DATA, and correspondingly on the night row on the Dataframe df. "
   ]
  },
  {
   "cell_type": "code",
   "execution_count": 16,
   "metadata": {
    "hidden": false
   },
   "outputs": [
    {
     "name": "stdout",
     "output_type": "stream",
     "text": [
      "Case: 109. Well-defined columns are on JSON entry(ies)/row number(s):\n",
      "[370, 371, 372, 373, 374, 375, 376, 377, 378, 379, 380, 381, 382, 383, 384, 385, 386, 387, 388, 389, 390, 391, 392, 393, 394, 395, 396, 397, 398, 399, 400]\n",
      "\n",
      "Case: 81. Well-defined columns are on JSON entry(ies)/row number(s):\n",
      "[302, 303, 304, 305, 306, 307, 308, 309, 310, 311, 312, 313, 314, 315, 316, 317, 318, 319, 320, 321, 322, 323, 324, 325, 326, 327, 328, 329, 330, 331, 332, 333, 334, 335, 336, 337, 338, 339, 340, 341, 342, 343, 344, 345, 346, 347, 348, 349, 350, 351, 352, 353, 354, 355, 356, 357, 358, 359, 360, 361, 362, 363, 364, 365, 366, 367, 368, 369, 401, 402, 403, 404, 405, 406, 407, 408, 409, 410, 411, 412, 413, 414, 415, 416, 417, 418, 419, 420, 421, 422, 423, 426, 427, 428, 429, 430, 431, 432, 433, 434, 435, 436, 438, 439, 440, 441, 445, 446, 447, 449, 450, 451, 452, 453, 454, 457, 458, 459, 462, 464, 465, 467, 468, 469, 470, 471, 473, 475, 477, 478, 479, 483, 484, 485, 486, 487, 488, 489, 490, 492, 493, 494]\n",
      "\n",
      "Case: 82. Well-defined columns are on JSON entry(ies)/row number(s):\n",
      "[424, 425, 437, 442, 443, 444, 448, 455, 456, 460, 461, 463, 466, 472, 474, 476, 480, 481, 482, 491, 495, 496, 497, 498, 499, 500]\n",
      "\n",
      "Case: 84. Well-defined columns are on JSON entry(ies)/row number(s):\n",
      "[0, 1, 2, 3, 4, 5, 7, 8, 9, 10, 11, 13, 15, 16, 17, 18, 19, 20, 21, 22, 24, 25, 26, 27, 28, 29, 30, 31, 32, 33, 34, 36, 37, 38, 39, 40, 41, 42, 43, 44, 45, 46, 47, 48, 49, 50, 52, 55, 56, 57, 58, 59, 60, 61, 62, 63, 64, 65, 66, 67, 68, 69, 70, 71, 72, 73, 74, 76, 77, 78, 79, 80, 81, 82, 83, 84, 85, 86, 87, 88, 89, 90, 91, 92, 93, 95, 96, 98, 99, 100, 101, 102, 103, 104, 105, 106, 107, 108, 109, 111, 112, 113, 114, 115, 116, 117, 118, 119, 120, 122, 123, 124, 126, 127, 128, 130, 131, 133, 134, 136, 137, 139, 140, 141, 142, 143, 144, 146, 147, 148, 150, 152, 153, 154, 155, 156, 157, 158, 159, 160, 161, 162, 163, 164, 165, 166, 167, 168, 169, 170, 171, 172, 173, 175, 176, 177, 179, 180, 181, 183, 184, 186, 188, 189, 190, 191, 192, 193, 194, 196, 197, 198, 199, 200, 201, 202, 203, 204, 205, 206, 207, 208, 209, 210, 211, 212, 214, 215, 216, 217, 218, 219, 220, 221, 222, 223, 225, 226, 227, 228, 229, 230, 231, 232, 233, 234, 235, 236, 237, 238, 239, 240, 241, 242, 243, 244, 245, 247, 248, 249, 250, 251, 252, 253, 254, 255, 256, 257, 258, 259, 260, 261, 262, 263, 264, 265, 266, 267, 268, 269, 272, 273, 274, 275, 276, 277, 278, 279, 280, 282, 283, 284, 285, 286, 287, 288, 289, 290, 293, 294, 295, 297, 298, 299, 300, 301, 501, 502, 503, 504, 505, 506, 507, 508, 509, 510, 511, 512, 513, 514, 515, 516, 518, 519, 520, 521, 522, 523, 524, 525, 526, 527, 528, 529, 530]\n",
      "\n",
      "Case: 85. Well-defined columns are on JSON entry(ies)/row number(s):\n",
      "[6, 12, 14, 23, 35, 51, 53, 54, 75, 94, 97, 110, 121, 125, 129, 132, 135, 138, 145, 149, 151, 174, 178, 182, 185, 187, 195, 213, 224, 246, 270, 271, 281, 291, 292, 296, 517]\n",
      "\n"
     ]
    }
   ],
   "source": [
    "# Study different cases and obtain row number/JSON array number\n",
    "cases = []\n",
    "for item in lengths:\n",
    "    cases.append([item,[i for i in range(len(DATA_summary)) if len(DATA_summary[i].keys())==item]])\n",
    "for i in range(len(cases)):\n",
    "    print(\"Case: \" + str(cases[i][0]) + \". Well-defined columns are on JSON entry(ies)/row number(s):\\n\" + str(cases[i][1]) + \"\\n\") \n"
   ]
  },
  {
   "cell_type": "markdown",
   "metadata": {
    "hidden": false
   },
   "source": [
    "### Remark\n",
    "\n",
    "From the above we observe that there are a total of 123 columns, however, the cluster with the largest number of well defined columns is 109....this means that some entries have columns that others dont. \n",
    "\n",
    "Let us study with more detail the clusters.\n",
    "\n",
    "We define a test that studies whether all column names are equal within the same cluster. \n",
    "\n",
    "We find they are not. \n",
    "\n",
    "Let us take the cluster with 84 well-defined entries."
   ]
  },
  {
   "cell_type": "code",
   "execution_count": 17,
   "metadata": {
    "hidden": false
   },
   "outputs": [
    {
     "name": "stdout",
     "output_type": "stream",
     "text": [
      "85 [6, 12, 14, 23, 35, 51, 53, 54, 75, 94, 97, 110, 121, 125, 129, 132, 135, 138, 145, 149, 151, 174, 178, 182, 185, 187, 195, 213, 224, 246, 270, 271, 281, 291, 292, 296, 517]\n"
     ]
    }
   ],
   "source": [
    "print(cases[4][0],cases[4][1])"
   ]
  },
  {
   "cell_type": "markdown",
   "metadata": {
    "hidden": false
   },
   "source": [
    "We define a test that compares all entries against the first and last entries on the cluster, and checks whether column names match. If they match the first entry, they append True along with the first entry value (0), if it matches the column names on the last, we append True followed by -1. In all other cases we append False. This worked (luckily) because in all clusters either all column names matched the first or last set of values....we might not always get this lucky. \n",
    "\n",
    "To see an example, let us consider the cluster that has 84 well defined entries. From the test, we see that all colum names match either the first entry on the cases array, or the last one as follows. \n",
    "\n",
    "No other cases were found. "
   ]
  },
  {
   "cell_type": "code",
   "execution_count": 13,
   "metadata": {
    "hidden": false
   },
   "outputs": [],
   "source": [
    "def test_df_colNames(case_arr):\n",
    "\n",
    "    case_arr_test = []\n",
    "    iterate_over = len(case_arr)\n",
    "    for i in range(iterate_over):\n",
    "        if DATA[case_arr[i]].keys() ==DATA[case_arr[0]].keys():\n",
    "            case_arr_test.append([True,0])\n",
    "        elif DATA[case_arr[i]].keys() ==DATA[case_arr[-1]].keys():\n",
    "            case_arr_test.append([True,-1])\n",
    "        else:\n",
    "            case_arr_test.append([False])\n",
    "    return case_arr_test"
   ]
  },
  {
   "cell_type": "code",
   "execution_count": 14,
   "metadata": {
    "hidden": false
   },
   "outputs": [],
   "source": [
    "# # # Running the test on all clusters\n",
    "# for i in range(6):\n",
    "#     print(cases[i][0])\n",
    "#     print(test_df_colNames(cases[i][1]))\n"
   ]
  },
  {
   "cell_type": "markdown",
   "metadata": {
    "hidden": false
   },
   "source": [
    "We summarize results as follows:\n",
    "\n",
    "|Case | Result| Meaning         |\n",
    "|-----|-------|-----------------|\n",
    "|4 well defined columns|  0|All entries equal to one another|\n",
    "|81 well defined columns| 0|All entries equal to one another|\n",
    "|82 well defined columns| 0|All entries equal to one another|\n",
    "|84 well defined columns| 0,-1|Two subcases: see first and last entries in corresponding JSON file|\n",
    "|85 well defined columns| 0,-1|Two subcases: see first and last entries in corresponding JSON file|\n",
    "|109 well defined columns | 0 |All entries equal to one another|\n"
   ]
  },
  {
   "cell_type": "code",
   "execution_count": null,
   "metadata": {
    "hidden": false
   },
   "outputs": [],
   "source": []
  }
 ],
 "metadata": {
  "kernelspec": {
   "display_name": "Python 3",
   "language": "python",
   "name": "python3"
  },
  "language_info": {
   "codemirror_mode": {
    "name": "ipython",
    "version": 3
   },
   "file_extension": ".py",
   "mimetype": "text/x-python",
   "name": "python",
   "nbconvert_exporter": "python",
   "pygments_lexer": "ipython3",
   "version": "3.6.4"
  }
 },
 "nbformat": 4,
 "nbformat_minor": 2
}
