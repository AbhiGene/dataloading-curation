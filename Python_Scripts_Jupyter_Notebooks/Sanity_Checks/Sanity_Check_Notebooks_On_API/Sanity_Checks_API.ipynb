{
 "cells": [
  {
   "cell_type": "code",
   "execution_count": 9,
   "metadata": {
    "hidden": false
   },
   "outputs": [],
   "source": [
    "import requests\n",
    "import json\n",
    "import csv\n",
    "import pandas as pd\n",
    "\n",
    "JSON_Content = \"https://ipa.ireceptor.org/v2/samples\""
   ]
  },
  {
   "cell_type": "code",
   "execution_count": 2,
   "metadata": {
    "hidden": false
   },
   "outputs": [],
   "source": [
    "# Need stronger testing for user input\n",
    "def type_of_entry(JSON_Content):\n",
    "\n",
    "    test_type_search = []\n",
    "    if \"sequences_summary\" in JSON_Content.split(\"/v2/\")[1]:\n",
    "        test_type_search.insert(0,False)\n",
    "        test_type_search.insert(1,True)\n",
    "        test_type_search.insert(2,False)\n",
    "    elif \"samples\" in JSON_Content.split(\"/v2/\")[1]:\n",
    "        test_type_search.insert(0,True)\n",
    "        test_type_search.insert(1,False)\n",
    "        test_type_search.insert(2,False)\n",
    "    else:\n",
    "        test_type_search.insert(0,False)\n",
    "        test_type_search.insert(1,False)\n",
    "        test_type_search.insert(2,True)\n",
    "    \n",
    "    return test_type_search"
   ]
  },
  {
   "cell_type": "code",
   "execution_count": 3,
   "metadata": {
    "hidden": false
   },
   "outputs": [],
   "source": [
    "def get_dataframes(JSON_Content):\n",
    "    \n",
    "    test_type_search = type_of_entry(JSON_Content)\n",
    "    \n",
    "    dataframes = []\n",
    "    \n",
    "    column_e = [0 for i in range(5)]\n",
    "    df = pd.DataFrame(columns=column_e)\n",
    "    \n",
    "    if test_type_search[2]!=True:\n",
    "        DATA = json.loads(requests.get(JSON_Content).text)\n",
    "        if test_type_search[1] == True:\n",
    "            df_items = pd.DataFrame.from_dict(DATA[\"items\"])\n",
    "            df_summary = pd.DataFrame.from_dict(DATA[\"summary\"])\n",
    "\n",
    "            dataframes.insert(0,df_items)\n",
    "            dataframes.insert(1,df_summary)\n",
    "        else:\n",
    "            df_summary = pd.DataFrame.from_dict(DATA)\n",
    "            \n",
    "            dataframes.insert(0,df)\n",
    "            dataframes.insert(1,df_summary)\n",
    "    else:\n",
    "        \n",
    "        \n",
    "        \n",
    "        dataframes.insert(0,df)\n",
    "        dataframes.insert(1,df)\n",
    "    return dataframes"
   ]
  },
  {
   "cell_type": "code",
   "execution_count": 4,
   "metadata": {
    "hidden": false
   },
   "outputs": [],
   "source": [
    "#AIRR Standardards\n",
    "\n",
    "min_AIRR_std = \"/home/lgutierrezfunderburk/Documents/Notebooks/iReceptor/airr-standards/AIRR_Minimal_Standard_Data_Elements.xlsx\"\n",
    "\n",
    "df_min_AIRR_std = pd.read_excel(min_AIRR_std)\n",
    "\n",
    "min_std = [item for item in df_min_AIRR_std[\"AIRR Formats WG field name\"]]\n"
   ]
  },
  {
   "cell_type": "code",
   "execution_count": 5,
   "metadata": {
    "hidden": false
   },
   "outputs": [],
   "source": [
    "[df_items,df_summary] = get_dataframes(JSON_Content)"
   ]
  },
  {
   "cell_type": "code",
   "execution_count": 6,
   "metadata": {
    "hidden": false
   },
   "outputs": [],
   "source": [
    "check_min_std_df_items = [[item in df_items.columns,item] for item in min_std]\n",
    "check_min_std_df_summary = [[item in df_summary.columns,item] for item in min_std]\n",
    "count_items = 0\n",
    "for i in range(len(check_min_std_df_items)):\n",
    "    if True in check_min_std_df_items[i]:\n",
    "        count_items +=1\n",
    "count_sum = 0\n",
    "for i in range(len(check_min_std_df_summary)):\n",
    "    if True in check_min_std_df_summary[i]:\n",
    "        count_sum +=1"
   ]
  },
  {
   "cell_type": "code",
   "execution_count": 7,
   "metadata": {
    "hidden": false
   },
   "outputs": [],
   "source": [
    "message_arr = []\n",
    "message_arr.append(\"Begin Sanity Check on API\\n\")\n",
    "message_arr.append(\"Check performed on search \" + str(JSON_Content) + \"\\n\")\n",
    "message_arr.append(\"Sanity Check: AIRR minimum standards\\n\")\n",
    "message_arr.append(\"Summary\\n\")\n",
    "message_arr.append(\"Items category: \" + str(count_items) + \" out of \" + str(len(min_std)) + \" standards were met\\n\")\n",
    "message_arr.append(\"Summary category: \" + str(count_sum) + \" out of \" + str(len(min_std)) + \" standards were met\\n\")"
   ]
  },
  {
   "cell_type": "code",
   "execution_count": 8,
   "metadata": {
    "hidden": false
   },
   "outputs": [
    {
     "name": "stdout",
     "output_type": "stream",
     "text": [
      "Begin Sanity Check on API\n",
      "\n",
      "Check performed on search https://ipa.ireceptor.org/v2/samples\n",
      "\n",
      "Sanity Check: AIRR minimum standards\n",
      "\n",
      "Summary\n",
      "\n",
      "Items category: 0 out of 82 standards were met\n",
      "\n",
      "Summary category: 71 out of 82 standards were met\n",
      "\n"
     ]
    }
   ],
   "source": [
    "for item in message_arr:\n",
    "    print(item)"
   ]
  },
  {
   "cell_type": "code",
   "execution_count": null,
   "metadata": {
    "hidden": false
   },
   "outputs": [],
   "source": []
  }
 ],
 "metadata": {
  "kernelspec": {
   "display_name": "Python 3",
   "language": "python",
   "name": "python3"
  },
  "language_info": {
   "codemirror_mode": {
    "name": "ipython",
    "version": 3
   },
   "file_extension": ".py",
   "mimetype": "text/x-python",
   "name": "python",
   "nbconvert_exporter": "python",
   "pygments_lexer": "ipython3",
   "version": "3.6.4"
  }
 },
 "nbformat": 4,
 "nbformat_minor": 2
}
